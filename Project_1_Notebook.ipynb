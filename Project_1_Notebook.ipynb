{
 "cells": [
  {
   "cell_type": "code",
   "execution_count": 25,
   "id": "eb283a73-b8d5-451f-80b2-eb87d5c56be3",
   "metadata": {},
   "outputs": [],
   "source": [
    "from pycoingecko import CoinGeckoAPI\n",
    "import json\n",
    "import requests\n",
    "import pandas as pd\n",
    "cg = CoinGeckoAPI()\n"
   ]
  },
  {
   "cell_type": "code",
   "execution_count": 26,
   "id": "1196a32a-d1e4-4257-8f00-7bca12b3fff7",
   "metadata": {},
   "outputs": [
    {
     "data": {
      "text/plain": [
       "{'bitcoin': {'usd': 46380}}"
      ]
     },
     "execution_count": 26,
     "metadata": {},
     "output_type": "execute_result"
    }
   ],
   "source": [
    "# Testing of CoinGecko API\n",
    "cg.get_price(ids='bitcoin', vs_currencies='usd')"
   ]
  },
  {
   "cell_type": "code",
   "execution_count": 35,
   "id": "ad3b91c7-4c43-48b5-a290-7d379c444249",
   "metadata": {},
   "outputs": [],
   "source": [
    "# Testing of Coin Metrics API\n",
    "\n",
    "# List of crypto assets\n",
    "crypto_assets = ['btc', 'eth', 'doge', 'bnb']\n",
    "\n",
    "# Asset metric reference\n",
    "price = 'ReferenceRate'\n",
    "\n",
    "# Set dates to get historical prices for the last 4 years\n",
    "\n",
    "start_date = pd.Timestamp(\"2017-08-01\", tz=\"America/New_York\").isoformat()\n",
    "end_date = pd.Timestamp(\"2021-08-01\", tz=\"America/New_York\").isoformat()"
   ]
  },
  {
   "cell_type": "code",
   "execution_count": 37,
   "id": "4fc44be5-1cda-49d4-a811-238e359d4b7c",
   "metadata": {},
   "outputs": [
    {
     "name": "stdout",
     "output_type": "stream",
     "text": [
      "{\n",
      "    \"data\": [\n",
      "        {\n",
      "            \"ReferenceRate\": \"371.601667624517\",\n",
      "            \"asset\": \"bnb\",\n",
      "            \"time\": \"2021-08-11T00:00:00.000000000Z\"\n",
      "        },\n",
      "        {\n",
      "            \"ReferenceRate\": \"45488.7912624196\",\n",
      "            \"asset\": \"btc\",\n",
      "            \"time\": \"2021-08-11T00:00:00.000000000Z\"\n",
      "        },\n",
      "        {\n",
      "            \"ReferenceRate\": \"0.25632513480426\",\n",
      "            \"asset\": \"doge\",\n",
      "            \"time\": \"2021-08-11T00:00:00.000000000Z\"\n",
      "        },\n",
      "        {\n",
      "            \"ReferenceRate\": \"3141.72382559907\",\n",
      "            \"asset\": \"eth\",\n",
      "            \"time\": \"2021-08-11T00:00:00.000000000Z\"\n",
      "        }\n",
      "    ]\n",
      "}\n"
     ]
    }
   ],
   "source": [
    "\n",
    "response = requests.get('https://community-api.coinmetrics.io/v4/timeseries/asset-metrics?\\\n",
    "assets=btc,eth, doge, bnb&\\\n",
    "metrics=ReferenceRate&\\\n",
    "limit_per_asset=1'\\\n",
    "                       \n",
    ").json()\n",
    "print(json.dumps(response, indent=4, sort_keys=True))"
   ]
  },
  {
   "cell_type": "code",
   "execution_count": null,
   "id": "155ade59-dbb1-441a-9136-0399fa879ee4",
   "metadata": {},
   "outputs": [],
   "source": []
  }
 ],
 "metadata": {
  "kernelspec": {
   "display_name": "dev",
   "language": "python",
   "name": "dev"
  },
  "language_info": {
   "codemirror_mode": {
    "name": "ipython",
    "version": 3
   },
   "file_extension": ".py",
   "mimetype": "text/x-python",
   "name": "python",
   "nbconvert_exporter": "python",
   "pygments_lexer": "ipython3",
   "version": "3.7.10"
  }
 },
 "nbformat": 4,
 "nbformat_minor": 5
}
